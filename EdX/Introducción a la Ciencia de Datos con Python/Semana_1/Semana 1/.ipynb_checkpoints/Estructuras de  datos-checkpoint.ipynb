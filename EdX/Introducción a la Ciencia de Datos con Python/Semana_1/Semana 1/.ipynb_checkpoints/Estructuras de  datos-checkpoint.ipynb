{
 "cells": [
  {
   "cell_type": "markdown",
   "metadata": {},
   "source": [
    "# Tuplas\n",
    "\n",
    "Las tuplas son estructuras de datos muy similar a las listas. Con la unica diferencia de que una vez creas la tupla, ya no podes manipular sus elementos. Son inmutables."
   ]
  },
  {
   "cell_type": "code",
   "execution_count": null,
   "metadata": {},
   "outputs": [],
   "source": [
    "l = [1,2,\"tres\",True]\n",
    "type(l)"
   ]
  },
  {
   "cell_type": "code",
   "execution_count": null,
   "metadata": {},
   "outputs": [],
   "source": [
    "tupla = (1,2,\"tres\",True)\n",
    "print(tupla)\n",
    "type(tupla)"
   ]
  },
  {
   "cell_type": "markdown",
   "metadata": {},
   "source": [
    "El constructor de la tupla es la coma. Los parentesis se  usan por claridad."
   ]
  },
  {
   "cell_type": "code",
   "execution_count": null,
   "metadata": {},
   "outputs": [],
   "source": [
    "tupla_sin_parentesis = 1,2,\"tres\",True\n",
    "print(tupla_sin_parentesis)\n",
    "type(tupla_sin_parentesis)"
   ]
  },
  {
   "cell_type": "markdown",
   "metadata": {},
   "source": [
    "Las tuplas son inmutables. No se pueden modificar una vez creadas."
   ]
  },
  {
   "cell_type": "code",
   "execution_count": null,
   "metadata": {},
   "outputs": [],
   "source": [
    "tupla[0] = 1"
   ]
  },
  {
   "cell_type": "code",
   "execution_count": null,
   "metadata": {},
   "outputs": [],
   "source": [
    "tupla.append(1)"
   ]
  },
  {
   "cell_type": "code",
   "execution_count": null,
   "metadata": {},
   "outputs": [],
   "source": [
    "def get_coords():\n",
    "    lat = 0.0\n",
    "    lon = 0.1\n",
    "    return lat,lon\n",
    "\n",
    "get_coords()"
   ]
  },
  {
   "cell_type": "markdown",
   "metadata": {},
   "source": [
    "# Diccionarios"
   ]
  },
  {
   "cell_type": "markdown",
   "metadata": {},
   "source": [
    "Los dicionarios relacionan una llave con un valor."
   ]
  },
  {
   "cell_type": "code",
   "execution_count": 3,
   "metadata": {},
   "outputs": [],
   "source": [
    "d = {\"Aguascalientes\" : \"Aguascalientes\",\n",
    "\"Baja California\" : \"Mexicali\",\n",
    "\"Baja California Sur\" : \"La Paz\",\n",
    "\"Campeche\" : \"San Francisco de Campeche\",\n",
    "\"Chihuahua\" : \"Chihuahua\",\n",
    "\"Chiapas\" : \"Tuxtla Gutiérrez\",\n",
    "\"Coahuila\" : \"Saltillo\",\n",
    "\"Colima\" : \"Colima\",\n",
    "\"Durango\" : \"Victoria de Durango\",\n",
    "\"Guanajuato\" : \"Guanajuato\",\n",
    "\"Guerrero\" : \"Chilpancingo de los Bravo\",\n",
    "\"Hidalgo\" : \"Pachuca de Soto\",\n",
    "\"Jalisco\" : \"Guadalajara\",\n",
    "\"México\" : \"Toluca de Lerdo\",\n",
    "\"Michoacán\" : \"Morelia\",\n",
    "\"Morelos\" : \"Cuernavaca\",\n",
    "\"Nayarit\" : \"Tepic\",\n",
    "\"Nuevo León\" : \"Monterrey\",\n",
    "\"Oaxaca\" : \"Oaxaca de Juárez\",\n",
    "\"Puebla\" : \"Puebla de Zaragoza\",\n",
    "\"Querétaro\" : \"Santiago de Querétaro\",\n",
    "\"Quintana Roo\" : \"Chetumal\",\n",
    "\"San Luis Potosí\" : \"San Luis Potosí\",\n",
    "\"Sinaloa\" : \"Culiacán Rosales\",\n",
    "\"Sonora\" : \"Hermosillo\",\n",
    "\"Tabasco\" : \"Villahermosa\",\n",
    "\"Tamaulipas\" : \"Ciudad Victoria\",\n",
    "\"Tlaxcala\" : \"Tlaxcala de Xicohténcatl\",\n",
    "\"Veracruz\" : \"Xalapa-Enríquez\",\n",
    "\"Yucatán\" : \"Mérida\",\n",
    "\"Zacatecas\" : \"Zacatecas\"}"
   ]
  },
  {
   "cell_type": "code",
   "execution_count": 4,
   "metadata": {},
   "outputs": [
    {
     "data": {
      "text/plain": [
       "'Ciudad Victoria'"
      ]
     },
     "execution_count": 4,
     "metadata": {},
     "output_type": "execute_result"
    }
   ],
   "source": [
    "d[\"Tamaulipas\"]"
   ]
  },
  {
   "cell_type": "markdown",
   "metadata": {},
   "source": [
    "Los diccionarios son colleciones de objetos sin orden definido"
   ]
  },
  {
   "cell_type": "code",
   "execution_count": 5,
   "metadata": {},
   "outputs": [
    {
     "ename": "KeyError",
     "evalue": "0",
     "output_type": "error",
     "traceback": [
      "\u001b[1;31m---------------------------------------------------------------------------\u001b[0m",
      "\u001b[1;31mKeyError\u001b[0m                                  Traceback (most recent call last)",
      "Input \u001b[1;32mIn [5]\u001b[0m, in \u001b[0;36m<cell line: 1>\u001b[1;34m()\u001b[0m\n\u001b[1;32m----> 1\u001b[0m \u001b[43md\u001b[49m\u001b[43m[\u001b[49m\u001b[38;5;241;43m0\u001b[39;49m\u001b[43m]\u001b[49m\n",
      "\u001b[1;31mKeyError\u001b[0m: 0"
     ]
    }
   ],
   "source": [
    "d[0]"
   ]
  },
  {
   "cell_type": "code",
   "execution_count": 6,
   "metadata": {},
   "outputs": [
    {
     "data": {
      "text/plain": [
       "'Austin'"
      ]
     },
     "execution_count": 6,
     "metadata": {},
     "output_type": "execute_result"
    }
   ],
   "source": [
    "d[\"Texas\"] = \"Austin\"\n",
    "d[\"Texas\"]"
   ]
  },
  {
   "cell_type": "code",
   "execution_count": 7,
   "metadata": {},
   "outputs": [
    {
     "data": {
      "text/plain": [
       "{'Aguascalientes': 'Aguascalientes',\n",
       " 'Baja California': 'Mexicali',\n",
       " 'Baja California Sur': 'La Paz',\n",
       " 'Campeche': 'San Francisco de Campeche',\n",
       " 'Chihuahua': 'Chihuahua',\n",
       " 'Chiapas': 'Tuxtla Gutiérrez',\n",
       " 'Coahuila': 'Saltillo',\n",
       " 'Colima': 'Colima',\n",
       " 'Durango': 'Victoria de Durango',\n",
       " 'Guanajuato': 'Guanajuato',\n",
       " 'Guerrero': 'Chilpancingo de los Bravo',\n",
       " 'Hidalgo': 'Pachuca de Soto',\n",
       " 'Jalisco': 'Guadalajara',\n",
       " 'México': 'Toluca de Lerdo',\n",
       " 'Michoacán': 'Morelia',\n",
       " 'Morelos': 'Cuernavaca',\n",
       " 'Nayarit': 'Tepic',\n",
       " 'Nuevo León': 'Monterrey',\n",
       " 'Oaxaca': 'Oaxaca de Juárez',\n",
       " 'Puebla': 'Puebla de Zaragoza',\n",
       " 'Querétaro': 'Santiago de Querétaro',\n",
       " 'Quintana Roo': 'Chetumal',\n",
       " 'San Luis Potosí': 'San Luis Potosí',\n",
       " 'Sinaloa': 'Culiacán Rosales',\n",
       " 'Sonora': 'Hermosillo',\n",
       " 'Tabasco': 'Villahermosa',\n",
       " 'Tamaulipas': 'Ciudad Victoria',\n",
       " 'Tlaxcala': 'Tlaxcala de Xicohténcatl',\n",
       " 'Veracruz': 'Xalapa-Enríquez',\n",
       " 'Yucatán': 'Mérida',\n",
       " 'Zacatecas': 'Zacatecas',\n",
       " 'Texas': 'Austin'}"
      ]
     },
     "execution_count": 7,
     "metadata": {},
     "output_type": "execute_result"
    }
   ],
   "source": [
    "d"
   ]
  },
  {
   "cell_type": "code",
   "execution_count": 8,
   "metadata": {},
   "outputs": [],
   "source": [
    "del(d[\"Texas\"])"
   ]
  },
  {
   "cell_type": "code",
   "execution_count": 9,
   "metadata": {},
   "outputs": [
    {
     "ename": "KeyError",
     "evalue": "'Texas'",
     "output_type": "error",
     "traceback": [
      "\u001b[1;31m---------------------------------------------------------------------------\u001b[0m",
      "\u001b[1;31mKeyError\u001b[0m                                  Traceback (most recent call last)",
      "Input \u001b[1;32mIn [9]\u001b[0m, in \u001b[0;36m<cell line: 1>\u001b[1;34m()\u001b[0m\n\u001b[1;32m----> 1\u001b[0m \u001b[43md\u001b[49m\u001b[43m[\u001b[49m\u001b[38;5;124;43m\"\u001b[39;49m\u001b[38;5;124;43mTexas\u001b[39;49m\u001b[38;5;124;43m\"\u001b[39;49m\u001b[43m]\u001b[49m\n",
      "\u001b[1;31mKeyError\u001b[0m: 'Texas'"
     ]
    }
   ],
   "source": [
    "d[\"Texas\"]"
   ]
  },
  {
   "cell_type": "code",
   "execution_count": null,
   "metadata": {},
   "outputs": [],
   "source": [
    "d"
   ]
  },
  {
   "cell_type": "code",
   "execution_count": null,
   "metadata": {},
   "outputs": [],
   "source": [
    "d.keys()"
   ]
  },
  {
   "cell_type": "code",
   "execution_count": null,
   "metadata": {},
   "outputs": [],
   "source": [
    "d.values()"
   ]
  },
  {
   "cell_type": "markdown",
   "metadata": {},
   "source": [
    "# Listas"
   ]
  },
  {
   "cell_type": "code",
   "execution_count": null,
   "metadata": {},
   "outputs": [],
   "source": [
    "l = [1,4,3,4,8,9]\n",
    "l.append(10)\n",
    "l"
   ]
  },
  {
   "cell_type": "code",
   "execution_count": null,
   "metadata": {},
   "outputs": [],
   "source": [
    "l.count(4)"
   ]
  },
  {
   "cell_type": "code",
   "execution_count": null,
   "metadata": {},
   "outputs": [],
   "source": [
    "l.extend([3,4,6])\n",
    "l"
   ]
  },
  {
   "cell_type": "code",
   "execution_count": null,
   "metadata": {},
   "outputs": [],
   "source": [
    "l.insert(1,5)\n",
    "l"
   ]
  },
  {
   "cell_type": "code",
   "execution_count": null,
   "metadata": {},
   "outputs": [],
   "source": [
    "print(l.pop())\n",
    "l"
   ]
  },
  {
   "cell_type": "code",
   "execution_count": null,
   "metadata": {},
   "outputs": [],
   "source": [
    "l.remove(9)\n",
    "l"
   ]
  },
  {
   "cell_type": "code",
   "execution_count": null,
   "metadata": {},
   "outputs": [],
   "source": [
    "l.reverse()\n",
    "l"
   ]
  },
  {
   "cell_type": "code",
   "execution_count": null,
   "metadata": {},
   "outputs": [],
   "source": [
    "l.sort()\n",
    "l"
   ]
  },
  {
   "cell_type": "code",
   "execution_count": null,
   "metadata": {},
   "outputs": [],
   "source": [
    "l.sort(reverse = True)\n",
    "l"
   ]
  },
  {
   "cell_type": "code",
   "execution_count": null,
   "metadata": {
    "collapsed": true
   },
   "outputs": [],
   "source": []
  }
 ],
 "metadata": {
  "kernelspec": {
   "display_name": "Python 3 (ipykernel)",
   "language": "python",
   "name": "python3"
  },
  "language_info": {
   "codemirror_mode": {
    "name": "ipython",
    "version": 3
   },
   "file_extension": ".py",
   "mimetype": "text/x-python",
   "name": "python",
   "nbconvert_exporter": "python",
   "pygments_lexer": "ipython3",
   "version": "3.9.12"
  }
 },
 "nbformat": 4,
 "nbformat_minor": 2
}
