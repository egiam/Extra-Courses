{
 "cells": [
  {
   "cell_type": "markdown",
   "metadata": {},
   "source": [
    "## Funciones\n",
    "Las funciones son fragmentos de código que agrupan un conjunto de instrucciones y devuelven un valor. Estas nos ayudan para separar el código en segmentos que nos facilitan encontrar errores y también nos permiten reciclar código."
   ]
  },
  {
   "cell_type": "markdown",
   "metadata": {},
   "source": [
    "~~~\n",
    "def nombre_funcion(param1,param2):\n",
    "    bloque de codigo\n",
    "    return valor_a_regresar\n",
    "~~~"
   ]
  },
  {
   "cell_type": "code",
   "execution_count": null,
   "metadata": {
    "collapsed": true
   },
   "outputs": [],
   "source": [
    "def suma(a,b):\n",
    "    return a+b"
   ]
  },
  {
   "cell_type": "code",
   "execution_count": null,
   "metadata": {},
   "outputs": [],
   "source": [
    "print(suma(2,8))"
   ]
  },
  {
   "cell_type": "code",
   "execution_count": null,
   "metadata": {
    "collapsed": true
   },
   "outputs": [],
   "source": [
    "def aplicar_impuesto(subtotal,impuesto):\n",
    "    return subtotal+subtotal*impuesto"
   ]
  },
  {
   "cell_type": "code",
   "execution_count": null,
   "metadata": {},
   "outputs": [],
   "source": [
    "aplicar_impuesto(100,0.16)"
   ]
  },
  {
   "cell_type": "code",
   "execution_count": null,
   "metadata": {
    "collapsed": true
   },
   "outputs": [],
   "source": [
    "def aplicar_impuesto(subtotal,impuesto=0.16):\n",
    "    return subtotal+subtotal*impuesto"
   ]
  },
  {
   "cell_type": "code",
   "execution_count": null,
   "metadata": {},
   "outputs": [],
   "source": [
    "aplicar_impuesto(100)"
   ]
  },
  {
   "cell_type": "code",
   "execution_count": null,
   "metadata": {},
   "outputs": [],
   "source": [
    "aplicar_impuesto(100,0.05)"
   ]
  },
  {
   "cell_type": "code",
   "execution_count": null,
   "metadata": {},
   "outputs": [],
   "source": [
    "aplicar_impuesto(impuesto=0.05,subtotal=100)"
   ]
  },
  {
   "cell_type": "code",
   "execution_count": null,
   "metadata": {},
   "outputs": [],
   "source": [
    "subtotal = 100\n",
    "subtotal = aplicar_impuesto(100)\n",
    "total = aplicar_impuesto(subtotal,0.05)\n",
    "print(total)"
   ]
  },
  {
   "cell_type": "code",
   "execution_count": null,
   "metadata": {
    "collapsed": true
   },
   "outputs": [],
   "source": [
    "def perimetro_rect(a,b):\n",
    "    return a*2+b*2\n",
    "\n",
    "def area_rect(a,b):\n",
    "    return a*b\n",
    "\n",
    "def operaciones(a,b):\n",
    "    return area_rect(a,b),perimetro_rect(a,b)"
   ]
  },
  {
   "cell_type": "code",
   "execution_count": null,
   "metadata": {},
   "outputs": [],
   "source": [
    "operaciones(2,5)"
   ]
  },
  {
   "cell_type": "code",
   "execution_count": null,
   "metadata": {
    "collapsed": true
   },
   "outputs": [],
   "source": [
    "listOfNumbers = [4,6,2,7,4,8,9]"
   ]
  },
  {
   "cell_type": "code",
   "execution_count": null,
   "metadata": {},
   "outputs": [],
   "source": [
    "#Imprimir max, min ,sum, len de una lista\n",
    "print(\"max:\",max(listOfNumbers))\n",
    "print(\"min:\",min(listOfNumbers))\n",
    "print(\"sum:\",sum(listOfNumbers))\n",
    "print(\"len:\",len(listOfNumbers))\n",
    "\n",
    "#Promedio de forma tradicional\n",
    "aux = 0\n",
    "for n in listOfNumbers:\n",
    "    aux = aux+n\n",
    "promedio = aux/len(listOfNumbers)\n",
    "print(\"Promedio:\",promedio)\n",
    "    \n",
    "#Promedio simplificado\n",
    "print(\"Promedio 2\",sum(listOfNumbers)/len(listOfNumbers))"
   ]
  }
 ],
 "metadata": {
  "kernelspec": {
   "display_name": "Python 3",
   "language": "python",
   "name": "python3"
  },
  "language_info": {
   "codemirror_mode": {
    "name": "ipython",
    "version": 3
   },
   "file_extension": ".py",
   "mimetype": "text/x-python",
   "name": "python",
   "nbconvert_exporter": "python",
   "pygments_lexer": "ipython3",
   "version": "3.6.2"
  }
 },
 "nbformat": 4,
 "nbformat_minor": 2
}
